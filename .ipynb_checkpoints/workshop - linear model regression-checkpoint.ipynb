{
 "cells": [
  {
   "cell_type": "markdown",
   "metadata": {},
   "source": [
    "## **DS05 - Data Science with Python - Linear Model Regression**"
   ]
  },
  {
   "cell_type": "markdown",
   "metadata": {},
   "source": [
    "In this workshop, we introduce the **Linear Model Regression**. We will go over the concept to understand the underlying theory and create a piece of code for analysing a set of data. In the first part of the workshop, we will use ````Simple Linear Regression````, whereas in the second part we will use ````Multiple Linear Regression````.\n"
   ]
  },
  {
   "cell_type": "markdown",
   "metadata": {},
   "source": [
    "### What is Linear Regression?"
   ]
  },
  {
   "cell_type": "markdown",
   "metadata": {},
   "source": [
    "Linear Regression is a statistical method used for modeling the dependence between two quantities, allowing us to predict behaviour at points where we don't have any data.\n",
    "\n",
    "To start with, we will do a linear fit. This means the model we will be fitting our data to is just a straight line.\n",
    "\n",
    "So, for a set of data points: $(x_i, y_i)$, we can write the equation of the line as:\n",
    "$$y_l(x) = mx_i + c$$ \n",
    "where $y_l$ is the predicted y-value, not the actual y-values of our points.\n",
    "\n",
    "The gradient - **m** and y-intercept - **c** are called fit parameters. By using the method of linear regression (also called the method of least squares fitting), we can calculate the values for the two parameters and plot our line of best fit.\n",
    "\n",
    "For implementing the least squares fit equations into our code, we will have to calculate the slope and intercept of the line of best fit. For this, we will use the following formulas: \n",
    "$$ m = \\frac{\\sum(x_i - \\bar{x}) y_i}{\\sum (x_i - \\bar{x})^2} = \\frac{\\sum x_i (y_i - \\bar{y})}{\\sum x_i (x_i - \\bar{x})} $$\n",
    "\n",
    "$$ c = \\bar{y} - m \\bar{x} $$\n",
    "\n",
    "where $ \\bar{x} $ and $ \\bar{y} $ represent the mean values of the data that we will calculate as ````mean_x````, respectively ````mean_y````."
   ]
  },
  {
   "cell_type": "markdown",
   "metadata": {},
   "source": [
    "Now, let's have a look at something more practical and start writing some code.\n",
    "The first thing we need to do is import our necessary libraries."
   ]
  },
  {
   "cell_type": "markdown",
   "metadata": {},
   "source": [
    "**!** Run the following code cell, to ensure you have the Sci-Kit Learn installed (we will use it later in the workshop). \n",
    "\n",
    "Scikit-learn is an open source machine learning library that supports supervised and unsupervised learning. It also provides various tools for model fitting, data preprocessing, model selection and evaluation, and many other utilities."
   ]
  },
  {
   "cell_type": "code",
   "execution_count": 1,
   "metadata": {},
   "outputs": [
    {
     "name": "stdout",
     "output_type": "stream",
     "text": [
      "Requirement already satisfied: sklearn in c:\\users\\phili\\anaconda3\\envs\\dss\\lib\\site-packages (0.0)\n",
      "Requirement already satisfied: scikit-learn in c:\\users\\phili\\anaconda3\\envs\\dss\\lib\\site-packages (from sklearn) (0.24.2)\n",
      "Requirement already satisfied: threadpoolctl>=2.0.0 in c:\\users\\phili\\anaconda3\\envs\\dss\\lib\\site-packages (from scikit-learn->sklearn) (2.2.0)\n",
      "Requirement already satisfied: scipy>=0.19.1 in c:\\users\\phili\\anaconda3\\envs\\dss\\lib\\site-packages (from scikit-learn->sklearn) (1.7.1)\n",
      "Requirement already satisfied: numpy>=1.13.3 in c:\\users\\phili\\anaconda3\\envs\\dss\\lib\\site-packages (from scikit-learn->sklearn) (1.21.1)\n",
      "Requirement already satisfied: joblib>=0.11 in c:\\users\\phili\\anaconda3\\envs\\dss\\lib\\site-packages (from scikit-learn->sklearn) (1.0.1)\n"
     ]
    }
   ],
   "source": [
    "!pip install sklearn"
   ]
  },
  {
   "cell_type": "code",
   "execution_count": 2,
   "metadata": {},
   "outputs": [],
   "source": [
    "import numpy as np\n",
    "import pandas as pd\n",
    "import matplotlib.pyplot as plt\n",
    "from sklearn.linear_model import LinearRegression\n",
    "from sklearn.model_selection import train_test_split\n",
    "%matplotlib inline"
   ]
  },
  {
   "cell_type": "markdown",
   "metadata": {},
   "source": [
    "Provided you are running IPython, the %matplotlib inline will make your plot outputs appear and be stored within the notebook."
   ]
  },
  {
   "cell_type": "markdown",
   "metadata": {},
   "source": [
    "### The Problem\n",
    "Below there are two code cells to extract a set of data and then plot it. The first code cell generates a data frame by reading the csv file \"RegressionData.csv\". Plotting the two arrays reveals a set of data that seems to show some kind of relationship between ````x```` and ````y````. The data here seems to change linearly as ````x```` changes. We can model this using a linear fit.\n"
   ]
  },
  {
   "cell_type": "code",
   "execution_count": 3,
   "metadata": {},
   "outputs": [],
   "source": [
    "# Generates data frame from csv file\n",
    "df = pd.read_csv(\"RegressionData.csv\")\n",
    "\n",
    "# Turning the columns into arrays\n",
    "x = df[\"x\"].values\n",
    "y = df[\"y\"].values"
   ]
  },
  {
   "cell_type": "code",
   "execution_count": 4,
   "metadata": {},
   "outputs": [
    {
     "data": {
      "text/plain": [
       "[<matplotlib.lines.Line2D at 0x1cf99448c40>]"
      ]
     },
     "execution_count": 4,
     "metadata": {},
     "output_type": "execute_result"
    },
    {
     "data": {
      "image/png": "[encoded data removed]",
      "text/plain": [
       "<Figure size 432x288 with 1 Axes>"
      ]
     },
     "metadata": {
      "needs_background": "light"
     },
     "output_type": "display_data"
    }
   ],
   "source": [
    "# Plots the graph from the above data\n",
    "plt.figure()\n",
    "plt.grid(True)\n",
    "plt.plot(x,y,'r.')"
   ]
  },
  {
   "cell_type": "markdown",
   "metadata": {},
   "source": [
    "#### Calculating the gradient and y-intercept. (Using equations above)"
   ]
  },
  {
   "cell_type": "code",
   "execution_count": 5,
   "metadata": {},
   "outputs": [
    {
     "name": "stdout",
     "output_type": "stream",
     "text": [
      "Gradient: 0.9773554490236186\n",
      "Intercept 0.33323427076670953\n"
     ]
    }
   ],
   "source": [
    "# calculating the means of the x and y data\n",
    "mean_x = np.mean(x) \n",
    "mean_y = np.mean(y)\n",
    "\n",
    "# calculating the slope\n",
    "slope = np.sum((y - mean_y)*x) / np.sum((x - mean_x)*x) \n",
    "print (\"Gradient:\", slope)\n",
    "\n",
    "# calculating the intercept\n",
    "intercept = mean_y - slope*mean_x \n",
    "print (\"Intercept\", intercept)"
   ]
  },
  {
   "cell_type": "markdown",
   "metadata": {},
   "source": [
    "#### Plotting the line of best fit on top of our data"
   ]
  },
  {
   "cell_type": "code",
   "execution_count": 6,
   "metadata": {},
   "outputs": [
    {
     "data": {
      "text/plain": [
       "(-10.0, 110.0)"
      ]
     },
     "execution_count": 6,
     "metadata": {},
     "output_type": "execute_result"
    },
    {
     "data": {
      "image/png": "[encoded data removed]",
      "text/plain": [
       "<Figure size 432x288 with 1 Axes>"
      ]
     },
     "metadata": {
      "needs_background": "light"
     },
     "output_type": "display_data"
    }
   ],
   "source": [
    "x_max = max(x)\n",
    "plt.figure(\"\") # start a new figure\n",
    "plt.grid(True) # add a grid\n",
    "# generate two points for the fitted line\n",
    "x_points = np.linspace(0, x_max*2., 2) \n",
    "y_points = slope*x_points + intercept\n",
    "plt.plot(x, y,'r.') # plotting data as points\n",
    "plt.line = plt.plot(x_points, y_points, 'b-') #plotting the line of best fit\n",
    "# setting limits for the axes\n",
    "plt.xlim(-10,110) \n",
    "plt.ylim(-10,110)"
   ]
  },
  {
   "cell_type": "markdown",
   "metadata": {},
   "source": [
    "### Sci-kit Learn\n",
    "\n",
    "A more efficient way we could do this, is by using Python's Sci-kit Learn library.\n",
    "\n",
    "We've calculated the gradient ````m```` and the intercept ````c```` using the equation from the start, let's try to do calculate them using Sci-kit Learn\n"
   ]
  },
  {
   "cell_type": "markdown",
   "metadata": {},
   "source": [
    "### Preprocessing the data\n",
    "\n",
    "First of all, we need to prepare our data, which is called reshaping. At the moment, our data is in the shape of a single row, with no columns. This current shape is not helpful for us as the Sci-Kit Learn deals with columns. So, we will use the ````np.reshape()```` function to reshape it.\n",
    "\n",
    "It is also worth noting that we typically use a capital ````X```` to denote our features or independent variables and again, we use ````y```` for our dependent variable or label. However, this is an optional step depending on how your data is formatted. For instance, if your ````X```` is a data frame with multiple columns, you won't need to convert it into an array. Anything with one column likely needs to be converted to an array and be reshaped as demonstrated below."
   ]
  },
  {
   "cell_type": "markdown",
   "metadata": {},
   "source": [
    "##### Visualising the shape of our data"
   ]
  },
  {
   "cell_type": "code",
   "execution_count": 7,
   "metadata": {},
   "outputs": [
    {
     "name": "stdout",
     "output_type": "stream",
     "text": [
      "[  0.   2.   4.   6.   8.  10.  12.  14.  16.  18.  20.  22.  24.  26.\n",
      "  28.  30.  32.  34.  36.  38.  40.  42.  44.  46.  48.  50.  52.  54.\n",
      "  56.  58.  60.  62.  64.  66.  68.  70.  72.  74.  76.  78.  80.  82.\n",
      "  84.  86.  88.  90.  92.  94.  96.  98. 100.]\n",
      "[  0.65591658  -0.5482752    7.63253391   8.19598614   0.53744705\n",
      "  13.0218931   13.26871136  16.70618777  10.31111803   8.97678547\n",
      "  21.78688936  19.03096869  26.52686536  34.67511388  33.55368481\n",
      "  20.71044441  39.71977804  24.64446733  42.47503722  39.45011526\n",
      "  40.31951772  39.62612559  49.24208696  36.98153367  40.93415442\n",
      "  57.87415451  53.97155638  55.27096672  59.31954904  59.49690638\n",
      "  58.21257686  52.69694868  60.886796    60.97044952  68.9296652\n",
      "  73.41489439  69.32916719  65.11032816  67.02613088  75.93690024\n",
      "  86.61596394  84.0352415   75.22931319  78.92167603  91.64027473\n",
      "  91.59972973  97.07813901 103.44848082  87.71868424  91.24425745\n",
      "  94.83750507]\n"
     ]
    }
   ],
   "source": [
    "# Original shape of x and y\n",
    "print(x)\n",
    "print(y)"
   ]
  },
  {
   "cell_type": "markdown",
   "metadata": {},
   "source": [
    "##### Reshaping the data"
   ]
  },
  {
   "cell_type": "code",
   "execution_count": 8,
   "metadata": {},
   "outputs": [
    {
     "name": "stdout",
     "output_type": "stream",
     "text": [
      "[[  0.]\n",
      " [  2.]\n",
      " [  4.]\n",
      " [  6.]\n",
      " [  8.]\n",
      " [ 10.]\n",
      " [ 12.]\n",
      " [ 14.]\n",
      " [ 16.]\n",
      " [ 18.]\n",
      " [ 20.]\n",
      " [ 22.]\n",
      " [ 24.]\n",
      " [ 26.]\n",
      " [ 28.]\n",
      " [ 30.]\n",
      " [ 32.]\n",
      " [ 34.]\n",
      " [ 36.]\n",
      " [ 38.]\n",
      " [ 40.]\n",
      " [ 42.]\n",
      " [ 44.]\n",
      " [ 46.]\n",
      " [ 48.]\n",
      " [ 50.]\n",
      " [ 52.]\n",
      " [ 54.]\n",
      " [ 56.]\n",
      " [ 58.]\n",
      " [ 60.]\n",
      " [ 62.]\n",
      " [ 64.]\n",
      " [ 66.]\n",
      " [ 68.]\n",
      " [ 70.]\n",
      " [ 72.]\n",
      " [ 74.]\n",
      " [ 76.]\n",
      " [ 78.]\n",
      " [ 80.]\n",
      " [ 82.]\n",
      " [ 84.]\n",
      " [ 86.]\n",
      " [ 88.]\n",
      " [ 90.]\n",
      " [ 92.]\n",
      " [ 94.]\n",
      " [ 96.]\n",
      " [ 98.]\n",
      " [100.]]\n",
      "[[  0.65591658]\n",
      " [ -0.5482752 ]\n",
      " [  7.63253391]\n",
      " [  8.19598614]\n",
      " [  0.53744705]\n",
      " [ 13.0218931 ]\n",
      " [ 13.26871136]\n",
      " [ 16.70618777]\n",
      " [ 10.31111803]\n",
      " [  8.97678547]\n",
      " [ 21.78688936]\n",
      " [ 19.03096869]\n",
      " [ 26.52686536]\n",
      " [ 34.67511388]\n",
      " [ 33.55368481]\n",
      " [ 20.71044441]\n",
      " [ 39.71977804]\n",
      " [ 24.64446733]\n",
      " [ 42.47503722]\n",
      " [ 39.45011526]\n",
      " [ 40.31951772]\n",
      " [ 39.62612559]\n",
      " [ 49.24208696]\n",
      " [ 36.98153367]\n",
      " [ 40.93415442]\n",
      " [ 57.87415451]\n",
      " [ 53.97155638]\n",
      " [ 55.27096672]\n",
      " [ 59.31954904]\n",
      " [ 59.49690638]\n",
      " [ 58.21257686]\n",
      " [ 52.69694868]\n",
      " [ 60.886796  ]\n",
      " [ 60.97044952]\n",
      " [ 68.9296652 ]\n",
      " [ 73.41489439]\n",
      " [ 69.32916719]\n",
      " [ 65.11032816]\n",
      " [ 67.02613088]\n",
      " [ 75.93690024]\n",
      " [ 86.61596394]\n",
      " [ 84.0352415 ]\n",
      " [ 75.22931319]\n",
      " [ 78.92167603]\n",
      " [ 91.64027473]\n",
      " [ 91.59972973]\n",
      " [ 97.07813901]\n",
      " [103.44848082]\n",
      " [ 87.71868424]\n",
      " [ 91.24425745]\n",
      " [ 94.83750507]]\n"
     ]
    }
   ],
   "source": [
    "# Independant variable or features\n",
    "X = x.reshape(-1,1)\n",
    "\n",
    "# Dependant variable or labels\n",
    "y = y.reshape(-1,1)\n",
    "\n",
    "# Reshaped X and y\n",
    "print(X)\n",
    "print(y)"
   ]
  },
  {
   "cell_type": "markdown",
   "metadata": {},
   "source": [
    "#### Seperating into Training and Test Sets\n",
    "Here we split our data into training sets and test sets for each variable using the ````train_test_split()```` function. The input is represented by the two variables and an additional argument - the ratio at which the data is split. Here we passed ````test_size = 0.2```` so $20\\%$ of the data is allocated to the test set while $80\\%$ is allocated to the training set."
   ]
  },
  {
   "cell_type": "code",
   "execution_count": 9,
   "metadata": {},
   "outputs": [],
   "source": [
    "# Seperates the data into test and training sets \n",
    "X_train, X_test, y_train, y_test = train_test_split(X, y, test_size = 0.2)"
   ]
  },
  {
   "cell_type": "markdown",
   "metadata": {},
   "source": [
    "Now that we have split the data, let's visualise which data points have been allocated to training data and vice versa."
   ]
  },
  {
   "cell_type": "code",
   "execution_count": 10,
   "metadata": {},
   "outputs": [
    {
     "data": {
      "image/png": "[encoded data removed]",
      "text/plain": [
       "<Figure size 432x288 with 1 Axes>"
      ]
     },
     "metadata": {
      "needs_background": "light"
     },
     "output_type": "display_data"
    }
   ],
   "source": [
    "# Plotting the training and testing splits\n",
    "plt.scatter(X_train, y_train, label = \"Training Data\", color = 'r')\n",
    "plt.scatter(X_test, y_test, label = \"Testing Data\", color = 'b')\n",
    "plt.legend()\n",
    "plt.grid(\"True\")\n",
    "plt.title(\"Test/Train Split\")\n",
    "plt.show()"
   ]
  },
  {
   "cell_type": "markdown",
   "metadata": {},
   "source": [
    "### Training the Regressor\n",
    "We begin by defining a ````regressor```` variable by calling the ````LinearRegression```` function. Then, we pass ````regressor.fit(X_train, y_train)````. This passes our training data into the regressor in order to train it. For the linear regression algorithm, training it means finding the values of $m$ and $c$ from the equation for the line of best fit."
   ]
  },
  {
   "cell_type": "code",
   "execution_count": 11,
   "metadata": {},
   "outputs": [],
   "source": [
    "# Defining our regressor\n",
    "regressor = LinearRegression()\n",
    "\n",
    "# Train the regressor\n",
    "fit = regressor.fit(X_train, y_train)"
   ]
  },
  {
   "cell_type": "markdown",
   "metadata": {},
   "source": [
    "#### Returning the Gradient and the Intercept\n",
    "Having trained the regressor we can now return the values of the gradient and intercept. These are simply the attributes ````.coef_```` and ````.intercept_```` of the variable we have used to define our trained regressor. In our case we defined it as ````fit````."
   ]
  },
  {
   "cell_type": "code",
   "execution_count": 12,
   "metadata": {
    "scrolled": true
   },
   "outputs": [
    {
     "name": "stdout",
     "output_type": "stream",
     "text": [
      "Gradient: [[0.98952479]]\n",
      "Intercept: [-0.1328508]\n"
     ]
    }
   ],
   "source": [
    "# Returns gradient and intercept\n",
    "print(\"Gradient:\",fit.coef_)\n",
    "print(\"Intercept:\",fit.intercept_)"
   ]
  },
  {
   "cell_type": "markdown",
   "metadata": {},
   "source": [
    "### Line of Best Fit Values\n",
    "Now that we've trained our regressor, we can obtain the values for the line of best fit. We do this by passing through a set of points into ````regressor.predict````. For each point, the regressor predicts a value based on the line of best fit that was obtained. Essentially, the input is passed through the equation: $ y = mx + c $, where the values of $m$ and $c$ are given by ````fit.coef_```` and ````fit.intercept_```` respectively. The code cell below uses the ````regressor.predict```` to obtain a predicted set of values. Then, we obtain another set of values by explicitly substituting in the formula for our line of best fit. We subtract the two sets away from one another to demonstrate that the ````regressor.predict```` function did indeed do the same thing."
   ]
  },
  {
   "cell_type": "code",
   "execution_count": 13,
   "metadata": {},
   "outputs": [
    {
     "data": {
      "text/plain": [
       "array([[0.],\n",
       "       [0.],\n",
       "       [0.],\n",
       "       [0.],\n",
       "       [0.],\n",
       "       [0.],\n",
       "       [0.],\n",
       "       [0.],\n",
       "       [0.],\n",
       "       [0.],\n",
       "       [0.]])"
      ]
     },
     "execution_count": 13,
     "metadata": {},
     "output_type": "execute_result"
    }
   ],
   "source": [
    "# Predicted values \n",
    "y_pred = regressor.predict(X_test)\n",
    "\n",
    "# y = m*x + c\n",
    "best_fit_line = fit.coef_*X_test + fit.intercept_\n",
    "\n",
    "# Comparing the two\n",
    "y_pred - best_fit_line"
   ]
  },
  {
   "cell_type": "markdown",
   "metadata": {},
   "source": [
    "### Plotting the Line of Best Fit\n",
    "Below, we plot the line of best fit against the original data. Doing this enables us to make predictions about what ````y```` value we'd obtain for a ````x```` value within the interval covered, but not actually recorded in the data set. This is known as interpolation. Our line in effect is a prediction of what the value of ````y```` is as ````x```` changes."
   ]
  },
  {
   "cell_type": "code",
   "execution_count": 14,
   "metadata": {},
   "outputs": [
    {
     "data": {
      "image/png": "[encoded data removed]",
      "text/plain": [
       "<Figure size 432x288 with 1 Axes>"
      ]
     },
     "metadata": {
      "needs_background": "light"
     },
     "output_type": "display_data"
    }
   ],
   "source": [
    "# Plot of the data with the line of best fit\n",
    "plt.plot(X_test,y_pred)\n",
    "plt.plot(x,y, \"rx\")\n",
    "plt.grid(True)"
   ]
  },
  {
   "cell_type": "markdown",
   "metadata": {},
   "source": [
    "### Scoring the Model\n",
    "Let us compare the predicted results with the actual values by putting them into a data frame. Note the need for the slicing occurs because ````pd.DataFrame```` takes arrays as rows rather than columns. Since we converted the arrays to columns at the start we need to undo this to convert to a data frame."
   ]
  },
  {
   "cell_type": "code",
   "execution_count": 15,
   "metadata": {},
   "outputs": [
    {
     "data": {
      "text/html": [
       "<div>\n",
       "<style scoped>\n",
       "    .dataframe tbody tr th:only-of-type {\n",
       "        vertical-align: middle;\n",
       "    }\n",
       "\n",
       "    .dataframe tbody tr th {\n",
       "        vertical-align: top;\n",
       "    }\n",
       "\n",
       "    .dataframe thead th {\n",
       "        text-align: right;\n",
       "    }\n",
       "</style>\n",
       "<table border=\"1\" class=\"dataframe\">\n",
       "  <thead>\n",
       "    <tr style=\"text-align: right;\">\n",
       "      <th></th>\n",
       "      <th>Predicted</th>\n",
       "      <th>Actual</th>\n",
       "    </tr>\n",
       "  </thead>\n",
       "  <tbody>\n",
       "    <tr>\n",
       "      <th>0</th>\n",
       "      <td>96.840579</td>\n",
       "      <td>91.244257</td>\n",
       "    </tr>\n",
       "    <tr>\n",
       "      <th>1</th>\n",
       "      <td>27.573843</td>\n",
       "      <td>33.553685</td>\n",
       "    </tr>\n",
       "    <tr>\n",
       "      <th>2</th>\n",
       "      <td>88.924380</td>\n",
       "      <td>91.599730</td>\n",
       "    </tr>\n",
       "    <tr>\n",
       "      <th>3</th>\n",
       "      <td>11.741447</td>\n",
       "      <td>13.268711</td>\n",
       "    </tr>\n",
       "    <tr>\n",
       "      <th>4</th>\n",
       "      <td>5.804298</td>\n",
       "      <td>8.195986</td>\n",
       "    </tr>\n",
       "    <tr>\n",
       "      <th>5</th>\n",
       "      <td>21.636695</td>\n",
       "      <td>19.030969</td>\n",
       "    </tr>\n",
       "    <tr>\n",
       "      <th>6</th>\n",
       "      <td>55.280537</td>\n",
       "      <td>59.319549</td>\n",
       "    </tr>\n",
       "    <tr>\n",
       "      <th>7</th>\n",
       "      <td>73.091984</td>\n",
       "      <td>65.110328</td>\n",
       "    </tr>\n",
       "    <tr>\n",
       "      <th>8</th>\n",
       "      <td>98.819628</td>\n",
       "      <td>94.837505</td>\n",
       "    </tr>\n",
       "    <tr>\n",
       "      <th>9</th>\n",
       "      <td>86.945331</td>\n",
       "      <td>91.640275</td>\n",
       "    </tr>\n",
       "    <tr>\n",
       "      <th>10</th>\n",
       "      <td>45.385290</td>\n",
       "      <td>36.981534</td>\n",
       "    </tr>\n",
       "  </tbody>\n",
       "</table>\n",
       "</div>"
      ],
      "text/plain": [
       "    Predicted     Actual\n",
       "0   96.840579  91.244257\n",
       "1   27.573843  33.553685\n",
       "2   88.924380  91.599730\n",
       "3   11.741447  13.268711\n",
       "4    5.804298   8.195986\n",
       "5   21.636695  19.030969\n",
       "6   55.280537  59.319549\n",
       "7   73.091984  65.110328\n",
       "8   98.819628  94.837505\n",
       "9   86.945331  91.640275\n",
       "10  45.385290  36.981534"
      ]
     },
     "execution_count": 15,
     "metadata": {},
     "output_type": "execute_result"
    }
   ],
   "source": [
    "# Converts predicted values and test values to a data frame\n",
    "df = pd.DataFrame({\"Predicted\": y_pred[:,0], \"Actual\": y_test[:,0]})\n",
    "df"
   ]
  },
  {
   "cell_type": "markdown",
   "metadata": {},
   "source": [
    "We can provide a score of our model by passing ````regressor.score(X_test,y_test)````. This is data that our regressor hasn't seen yet, which means it can provide a basis with which to test the results. The best score you can obtain for the model is $1$. The lower the score, the worse a fit the model is to the data."
   ]
  },
  {
   "cell_type": "code",
   "execution_count": 16,
   "metadata": {},
   "outputs": [
    {
     "name": "stdout",
     "output_type": "stream",
     "text": [
      "0.9763002831471521\n"
     ]
    }
   ],
   "source": [
    "# Determines a score for our model\n",
    "score = regressor.score(X_test, y_test)\n",
    "print(score)"
   ]
  },
  {
   "cell_type": "markdown",
   "metadata": {},
   "source": [
    "### Multiple Linear Regression\n",
    "The example used above involved only two variables. However, in the real world it is highly unlikely that a label or dependant variable would depend on only one feature or independant variable. The equation for the value of $y$ in such an instance can be generalised as follows:\n",
    "$$ y = c + m_1 x_1 + m_2 x_2 + ... m_n x_n + \\epsilon $$\n",
    "The equation is similar to the one before except we have multiple values for the gradient and we also have an additional $\\epsilon$ term which is the error. In essence, the $\\epsilon$ accounts for any potential data points that might not be a fit for the linear model.\n",
    "\n",
    "Below, we will have a look at an example on how a linear regression problem with multiple features works. The dataset in question is about different types of advertising and their effect on sales. The independent variables are given by the \"TV\", \"Radio\" and \"Newspaper\" columns while \"Sales\" is our dependent variable."
   ]
  },
  {
   "cell_type": "code",
   "execution_count": 17,
   "metadata": {},
   "outputs": [
    {
     "data": {
      "text/html": [
       "<div>\n",
       "<style scoped>\n",
       "    .dataframe tbody tr th:only-of-type {\n",
       "        vertical-align: middle;\n",
       "    }\n",
       "\n",
       "    .dataframe tbody tr th {\n",
       "        vertical-align: top;\n",
       "    }\n",
       "\n",
       "    .dataframe thead th {\n",
       "        text-align: right;\n",
       "    }\n",
       "</style>\n",
       "<table border=\"1\" class=\"dataframe\">\n",
       "  <thead>\n",
       "    <tr style=\"text-align: right;\">\n",
       "      <th></th>\n",
       "      <th>TV</th>\n",
       "      <th>Radio</th>\n",
       "      <th>Newspaper</th>\n",
       "      <th>Sales</th>\n",
       "    </tr>\n",
       "  </thead>\n",
       "  <tbody>\n",
       "    <tr>\n",
       "      <th>0</th>\n",
       "      <td>230.1</td>\n",
       "      <td>37.8</td>\n",
       "      <td>69.2</td>\n",
       "      <td>22.1</td>\n",
       "    </tr>\n",
       "    <tr>\n",
       "      <th>1</th>\n",
       "      <td>44.5</td>\n",
       "      <td>39.3</td>\n",
       "      <td>45.1</td>\n",
       "      <td>10.4</td>\n",
       "    </tr>\n",
       "    <tr>\n",
       "      <th>2</th>\n",
       "      <td>17.2</td>\n",
       "      <td>45.9</td>\n",
       "      <td>69.3</td>\n",
       "      <td>12.0</td>\n",
       "    </tr>\n",
       "    <tr>\n",
       "      <th>3</th>\n",
       "      <td>151.5</td>\n",
       "      <td>41.3</td>\n",
       "      <td>58.5</td>\n",
       "      <td>16.5</td>\n",
       "    </tr>\n",
       "    <tr>\n",
       "      <th>4</th>\n",
       "      <td>180.8</td>\n",
       "      <td>10.8</td>\n",
       "      <td>58.4</td>\n",
       "      <td>17.9</td>\n",
       "    </tr>\n",
       "    <tr>\n",
       "      <th>...</th>\n",
       "      <td>...</td>\n",
       "      <td>...</td>\n",
       "      <td>...</td>\n",
       "      <td>...</td>\n",
       "    </tr>\n",
       "    <tr>\n",
       "      <th>195</th>\n",
       "      <td>38.2</td>\n",
       "      <td>3.7</td>\n",
       "      <td>13.8</td>\n",
       "      <td>7.6</td>\n",
       "    </tr>\n",
       "    <tr>\n",
       "      <th>196</th>\n",
       "      <td>94.2</td>\n",
       "      <td>4.9</td>\n",
       "      <td>8.1</td>\n",
       "      <td>14.0</td>\n",
       "    </tr>\n",
       "    <tr>\n",
       "      <th>197</th>\n",
       "      <td>177.0</td>\n",
       "      <td>9.3</td>\n",
       "      <td>6.4</td>\n",
       "      <td>14.8</td>\n",
       "    </tr>\n",
       "    <tr>\n",
       "      <th>198</th>\n",
       "      <td>283.6</td>\n",
       "      <td>42.0</td>\n",
       "      <td>66.2</td>\n",
       "      <td>25.5</td>\n",
       "    </tr>\n",
       "    <tr>\n",
       "      <th>199</th>\n",
       "      <td>232.1</td>\n",
       "      <td>8.6</td>\n",
       "      <td>8.7</td>\n",
       "      <td>18.4</td>\n",
       "    </tr>\n",
       "  </tbody>\n",
       "</table>\n",
       "<p>200 rows × 4 columns</p>\n",
       "</div>"
      ],
      "text/plain": [
       "        TV  Radio  Newspaper  Sales\n",
       "0    230.1   37.8       69.2   22.1\n",
       "1     44.5   39.3       45.1   10.4\n",
       "2     17.2   45.9       69.3   12.0\n",
       "3    151.5   41.3       58.5   16.5\n",
       "4    180.8   10.8       58.4   17.9\n",
       "..     ...    ...        ...    ...\n",
       "195   38.2    3.7       13.8    7.6\n",
       "196   94.2    4.9        8.1   14.0\n",
       "197  177.0    9.3        6.4   14.8\n",
       "198  283.6   42.0       66.2   25.5\n",
       "199  232.1    8.6        8.7   18.4\n",
       "\n",
       "[200 rows x 4 columns]"
      ]
     },
     "execution_count": 17,
     "metadata": {},
     "output_type": "execute_result"
    }
   ],
   "source": [
    "# Converts advertising csv to a data frame\n",
    "df = pd.read_csv(\"advertising.csv\")\n",
    "df"
   ]
  },
  {
   "cell_type": "markdown",
   "metadata": {},
   "source": [
    "The process for applying the linear regression algorithm when you have multiple independent variables is very similar to that for our original case. The key difference being that ````X```` will consist of more than one column, so converting to a Numpy array and reshaping it is not required. Once we have ````X```` and ````y````, the procedure for splitting the data into training and test sets then training the regressor and so forth is the same as before.\n",
    "\n",
    "In the following code cell, we can see that ````Sales```` is dropped from ````df```` so that only independent variables ````x```` remain. Now we specify ````Sales```` as ````y```` since it is the dependent variable and we need to reshape it because it consists of only one column\n"
   ]
  },
  {
   "cell_type": "code",
   "execution_count": 18,
   "metadata": {},
   "outputs": [],
   "source": [
    "# Independent variables\n",
    "X = df.drop(\"Sales\",axis=1)\n",
    "\n",
    "# Dependent variable\n",
    "y = df[\"Sales\"].values.reshape(-1,1)\n",
    "\n",
    "# Splitting into test and training data\n",
    "X_train, X_test, y_train, y_test = train_test_split(X,y,test_size=0.2)"
   ]
  },
  {
   "cell_type": "code",
   "execution_count": 19,
   "metadata": {},
   "outputs": [],
   "source": [
    "# Defining regressor\n",
    "regressor = LinearRegression()\n",
    "\n",
    "# Training our regressor\n",
    "fit = regressor.fit(X_train,y_train)\n",
    "\n",
    "# Predicting values\n",
    "y_pred = fit.predict(X_test)\n"
   ]
  },
  {
   "cell_type": "code",
   "execution_count": 20,
   "metadata": {},
   "outputs": [],
   "source": [
    "# Plot of the data with the line of best fit"
   ]
  },
  {
   "cell_type": "code",
   "execution_count": 21,
   "metadata": {},
   "outputs": [
    {
     "data": {
      "text/html": [
       "<div>\n",
       "<style scoped>\n",
       "    .dataframe tbody tr th:only-of-type {\n",
       "        vertical-align: middle;\n",
       "    }\n",
       "\n",
       "    .dataframe tbody tr th {\n",
       "        vertical-align: top;\n",
       "    }\n",
       "\n",
       "    .dataframe thead th {\n",
       "        text-align: right;\n",
       "    }\n",
       "</style>\n",
       "<table border=\"1\" class=\"dataframe\">\n",
       "  <thead>\n",
       "    <tr style=\"text-align: right;\">\n",
       "      <th></th>\n",
       "      <th>Predicted</th>\n",
       "      <th>Actual</th>\n",
       "    </tr>\n",
       "  </thead>\n",
       "  <tbody>\n",
       "    <tr>\n",
       "      <th>0</th>\n",
       "      <td>7.878776</td>\n",
       "      <td>8.1</td>\n",
       "    </tr>\n",
       "    <tr>\n",
       "      <th>1</th>\n",
       "      <td>12.231208</td>\n",
       "      <td>12.5</td>\n",
       "    </tr>\n",
       "    <tr>\n",
       "      <th>2</th>\n",
       "      <td>18.078155</td>\n",
       "      <td>16.6</td>\n",
       "    </tr>\n",
       "    <tr>\n",
       "      <th>3</th>\n",
       "      <td>10.436191</td>\n",
       "      <td>12.0</td>\n",
       "    </tr>\n",
       "    <tr>\n",
       "      <th>4</th>\n",
       "      <td>18.176681</td>\n",
       "      <td>16.0</td>\n",
       "    </tr>\n",
       "    <tr>\n",
       "      <th>5</th>\n",
       "      <td>24.869893</td>\n",
       "      <td>27.0</td>\n",
       "    </tr>\n",
       "    <tr>\n",
       "      <th>6</th>\n",
       "      <td>10.193927</td>\n",
       "      <td>8.7</td>\n",
       "    </tr>\n",
       "    <tr>\n",
       "      <th>7</th>\n",
       "      <td>17.913911</td>\n",
       "      <td>16.6</td>\n",
       "    </tr>\n",
       "    <tr>\n",
       "      <th>8</th>\n",
       "      <td>12.210626</td>\n",
       "      <td>12.4</td>\n",
       "    </tr>\n",
       "    <tr>\n",
       "      <th>9</th>\n",
       "      <td>21.346594</td>\n",
       "      <td>23.8</td>\n",
       "    </tr>\n",
       "    <tr>\n",
       "      <th>10</th>\n",
       "      <td>17.836766</td>\n",
       "      <td>17.1</td>\n",
       "    </tr>\n",
       "    <tr>\n",
       "      <th>11</th>\n",
       "      <td>8.059760</td>\n",
       "      <td>5.5</td>\n",
       "    </tr>\n",
       "    <tr>\n",
       "      <th>12</th>\n",
       "      <td>9.680715</td>\n",
       "      <td>9.2</td>\n",
       "    </tr>\n",
       "    <tr>\n",
       "      <th>13</th>\n",
       "      <td>15.557635</td>\n",
       "      <td>15.0</td>\n",
       "    </tr>\n",
       "    <tr>\n",
       "      <th>14</th>\n",
       "      <td>19.501257</td>\n",
       "      <td>18.0</td>\n",
       "    </tr>\n",
       "    <tr>\n",
       "      <th>15</th>\n",
       "      <td>18.953366</td>\n",
       "      <td>19.2</td>\n",
       "    </tr>\n",
       "    <tr>\n",
       "      <th>16</th>\n",
       "      <td>13.118944</td>\n",
       "      <td>13.3</td>\n",
       "    </tr>\n",
       "    <tr>\n",
       "      <th>17</th>\n",
       "      <td>6.473427</td>\n",
       "      <td>7.3</td>\n",
       "    </tr>\n",
       "    <tr>\n",
       "      <th>18</th>\n",
       "      <td>15.240152</td>\n",
       "      <td>14.6</td>\n",
       "    </tr>\n",
       "    <tr>\n",
       "      <th>19</th>\n",
       "      <td>10.508359</td>\n",
       "      <td>10.9</td>\n",
       "    </tr>\n",
       "    <tr>\n",
       "      <th>20</th>\n",
       "      <td>12.048059</td>\n",
       "      <td>11.5</td>\n",
       "    </tr>\n",
       "    <tr>\n",
       "      <th>21</th>\n",
       "      <td>9.615453</td>\n",
       "      <td>8.0</td>\n",
       "    </tr>\n",
       "    <tr>\n",
       "      <th>22</th>\n",
       "      <td>15.907037</td>\n",
       "      <td>17.1</td>\n",
       "    </tr>\n",
       "    <tr>\n",
       "      <th>23</th>\n",
       "      <td>22.092694</td>\n",
       "      <td>23.2</td>\n",
       "    </tr>\n",
       "    <tr>\n",
       "      <th>24</th>\n",
       "      <td>9.207218</td>\n",
       "      <td>7.3</td>\n",
       "    </tr>\n",
       "    <tr>\n",
       "      <th>25</th>\n",
       "      <td>11.522854</td>\n",
       "      <td>12.3</td>\n",
       "    </tr>\n",
       "    <tr>\n",
       "      <th>26</th>\n",
       "      <td>6.423279</td>\n",
       "      <td>6.9</td>\n",
       "    </tr>\n",
       "    <tr>\n",
       "      <th>27</th>\n",
       "      <td>14.151351</td>\n",
       "      <td>13.2</td>\n",
       "    </tr>\n",
       "    <tr>\n",
       "      <th>28</th>\n",
       "      <td>10.953192</td>\n",
       "      <td>11.3</td>\n",
       "    </tr>\n",
       "    <tr>\n",
       "      <th>29</th>\n",
       "      <td>18.574491</td>\n",
       "      <td>18.2</td>\n",
       "    </tr>\n",
       "    <tr>\n",
       "      <th>30</th>\n",
       "      <td>21.465219</td>\n",
       "      <td>16.1</td>\n",
       "    </tr>\n",
       "    <tr>\n",
       "      <th>31</th>\n",
       "      <td>21.045154</td>\n",
       "      <td>19.8</td>\n",
       "    </tr>\n",
       "    <tr>\n",
       "      <th>32</th>\n",
       "      <td>20.679846</td>\n",
       "      <td>23.7</td>\n",
       "    </tr>\n",
       "    <tr>\n",
       "      <th>33</th>\n",
       "      <td>16.013016</td>\n",
       "      <td>16.4</td>\n",
       "    </tr>\n",
       "    <tr>\n",
       "      <th>34</th>\n",
       "      <td>12.653039</td>\n",
       "      <td>11.9</td>\n",
       "    </tr>\n",
       "    <tr>\n",
       "      <th>35</th>\n",
       "      <td>7.028103</td>\n",
       "      <td>6.7</td>\n",
       "    </tr>\n",
       "    <tr>\n",
       "      <th>36</th>\n",
       "      <td>15.712723</td>\n",
       "      <td>17.9</td>\n",
       "    </tr>\n",
       "    <tr>\n",
       "      <th>37</th>\n",
       "      <td>15.667996</td>\n",
       "      <td>16.7</td>\n",
       "    </tr>\n",
       "    <tr>\n",
       "      <th>38</th>\n",
       "      <td>19.463030</td>\n",
       "      <td>21.2</td>\n",
       "    </tr>\n",
       "    <tr>\n",
       "      <th>39</th>\n",
       "      <td>24.633586</td>\n",
       "      <td>23.8</td>\n",
       "    </tr>\n",
       "  </tbody>\n",
       "</table>\n",
       "</div>"
      ],
      "text/plain": [
       "    Predicted  Actual\n",
       "0    7.878776     8.1\n",
       "1   12.231208    12.5\n",
       "2   18.078155    16.6\n",
       "3   10.436191    12.0\n",
       "4   18.176681    16.0\n",
       "5   24.869893    27.0\n",
       "6   10.193927     8.7\n",
       "7   17.913911    16.6\n",
       "8   12.210626    12.4\n",
       "9   21.346594    23.8\n",
       "10  17.836766    17.1\n",
       "11   8.059760     5.5\n",
       "12   9.680715     9.2\n",
       "13  15.557635    15.0\n",
       "14  19.501257    18.0\n",
       "15  18.953366    19.2\n",
       "16  13.118944    13.3\n",
       "17   6.473427     7.3\n",
       "18  15.240152    14.6\n",
       "19  10.508359    10.9\n",
       "20  12.048059    11.5\n",
       "21   9.615453     8.0\n",
       "22  15.907037    17.1\n",
       "23  22.092694    23.2\n",
       "24   9.207218     7.3\n",
       "25  11.522854    12.3\n",
       "26   6.423279     6.9\n",
       "27  14.151351    13.2\n",
       "28  10.953192    11.3\n",
       "29  18.574491    18.2\n",
       "30  21.465219    16.1\n",
       "31  21.045154    19.8\n",
       "32  20.679846    23.7\n",
       "33  16.013016    16.4\n",
       "34  12.653039    11.9\n",
       "35   7.028103     6.7\n",
       "36  15.712723    17.9\n",
       "37  15.667996    16.7\n",
       "38  19.463030    21.2\n",
       "39  24.633586    23.8"
      ]
     },
     "execution_count": 21,
     "metadata": {},
     "output_type": "execute_result"
    }
   ],
   "source": [
    "# Comparing predicted against actual values\n",
    "df = pd.DataFrame({\"Predicted\": y_pred[:,0], \"Actual\": y_test[:,0]})\n",
    "df"
   ]
  },
  {
   "cell_type": "markdown",
   "metadata": {},
   "source": [
    "As the final step, we score our regressor for this multiple linear "
   ]
  },
  {
   "cell_type": "code",
   "execution_count": 22,
   "metadata": {},
   "outputs": [
    {
     "data": {
      "text/plain": [
       "0.9174440089730509"
      ]
     },
     "execution_count": 22,
     "metadata": {},
     "output_type": "execute_result"
    }
   ],
   "source": [
    "# Scoring our regressor\n",
    "fit.score(X_test,y_test)"
   ]
  }
 ],
 "metadata": {
  "kernelspec": {
   "display_name": "DSS",
   "language": "python",
   "name": "dss"
  },
  "language_info": {
   "codemirror_mode": {
    "name": "ipython",
    "version": 3
   },
   "file_extension": ".py",
   "mimetype": "text/x-python",
   "name": "python",
   "nbconvert_exporter": "python",
   "pygments_lexer": "ipython3",
   "version": "3.9.6"
  }
 },
 "nbformat": 4,
 "nbformat_minor": 2
}
